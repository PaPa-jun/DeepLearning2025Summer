{
 "cells": [
  {
   "cell_type": "code",
   "execution_count": 1,
   "id": "79d223f5",
   "metadata": {},
   "outputs": [],
   "source": [
    "import pandas as pd, torch\n",
    "import torch.nn as nn\n",
    "\n",
    "from torch.utils.data import Dataset, DataLoader\n",
    "from sklearn.model_selection import train_test_split\n",
    "from tokenizers import Tokenizer, normalizers\n",
    "from tokenizers.models import BPE\n",
    "from tokenizers.pre_tokenizers import Whitespace\n",
    "from tokenizers.trainers import BpeTrainer"
   ]
  },
  {
   "cell_type": "markdown",
   "id": "9f62a4f5",
   "metadata": {},
   "source": [
    "## Load Dataset"
   ]
  },
  {
   "cell_type": "code",
   "execution_count": 2,
   "id": "57510327",
   "metadata": {},
   "outputs": [],
   "source": [
    "data_frame = pd.read_csv('enron_spam_data.csv').drop(columns=['Date']).rename(\n",
    "    columns={\n",
    "        'Message ID': 'id',\n",
    "        'Subject': 'abstract',\n",
    "        'Message': 'content',\n",
    "        'Spam/Ham': 'label',\n",
    "    }\n",
    ").set_index('id')\n",
    "data_frame.dropna(how='any', inplace=True)\n",
    "data_frame['label'] = data_frame['label'].map({'spam': 1, 'ham': 0})\n",
    "\n",
    "data_list = []\n",
    "for _, row in data_frame.iterrows():\n",
    "    # 为每个文本片段添加字段标识\n",
    "    abstract = row['abstract'].replace('\\n', ' ')\n",
    "    content = row['content'].replace('\\n', ' ')\n",
    "    data_list.append(f\"[ABSTRACT]: {abstract} [CONTENT]: {content}\\n\")"
   ]
  },
  {
   "cell_type": "code",
   "execution_count": 3,
   "id": "62868f3d",
   "metadata": {},
   "outputs": [],
   "source": [
    "class SpamDataset(Dataset):\n",
    "    def __init__(self, texts, labels, tokenizer, max_length=512):\n",
    "        self.texts = texts\n",
    "        self.labels = labels\n",
    "        self.tokenizer = tokenizer\n",
    "        self.max_length = max_length\n",
    "\n",
    "    def __len__(self):\n",
    "        return len(self.texts)\n",
    "\n",
    "    def __getitem__(self, idx):\n",
    "        text = self.texts[idx]\n",
    "        encoding = self.tokenizer.encode(text).ids  # BPE编码\n",
    "        # 截断或填充到固定长度\n",
    "        if len(encoding) > self.max_length:\n",
    "            encoding = encoding[:self.max_length]\n",
    "        else:\n",
    "            encoding += [self.tokenizer.token_to_id(\"[PAD]\")] * (self.max_length - len(encoding))\n",
    "        return torch.tensor(encoding), torch.tensor(self.labels[idx])"
   ]
  },
  {
   "cell_type": "markdown",
   "id": "9a05489e",
   "metadata": {},
   "source": [
    "## Tokenizer"
   ]
  },
  {
   "cell_type": "code",
   "execution_count": 4,
   "id": "c67e96f8",
   "metadata": {},
   "outputs": [
    {
     "name": "stdout",
     "output_type": "stream",
     "text": [
      "\n",
      "\n",
      "\n"
     ]
    }
   ],
   "source": [
    "tokenizer = Tokenizer(BPE(unk_token=\"[UNK]\"))\n",
    "tokenizer.normalizer = normalizers.Sequence([\n",
    "    normalizers.NFKC(),     # Unicode标准化\n",
    "    normalizers.Lowercase() # 统一转小写\n",
    "])\n",
    "tokenizer.pre_tokenizer = Whitespace()\n",
    "trainer = BpeTrainer(\n",
    "    vocab_size=100000,\n",
    "    min_frequency=2,\n",
    "    special_tokens=[\"[UNK]\", \"[PAD]\", \"[ABSTRACT]\", \"[CONTENT]\"],\n",
    ")\n",
    "\n",
    "tokenizer.train_from_iterator(data_list, trainer=trainer)"
   ]
  },
  {
   "cell_type": "markdown",
   "id": "6456b72d",
   "metadata": {},
   "source": [
    "## Model"
   ]
  },
  {
   "cell_type": "code",
   "execution_count": 5,
   "id": "728c29b3",
   "metadata": {},
   "outputs": [],
   "source": [
    "# Attention\n",
    "class MultiHeadAttention(nn.Module):\n",
    "    pass\n",
    "\n",
    "class Embedding(nn.Module):\n",
    "    pass\n",
    "\n",
    "class AttentionModel(nn.Module):\n",
    "    pass"
   ]
  },
  {
   "cell_type": "code",
   "execution_count": null,
   "id": "d1fa05e3",
   "metadata": {},
   "outputs": [],
   "source": [
    "# RNN\n",
    "class RNN(nn.Module):\n",
    "    def __init__(self):\n",
    "        super(RNN).__init__()\n",
    "\n",
    "    def forward(self):\n",
    "        pass\n",
    "\n",
    "# GRU\n",
    "class GRU(nn.Module):\n",
    "    pass\n",
    "\n",
    "# LSTM\n",
    "class LSTM(nn.Module):\n",
    "    pass"
   ]
  },
  {
   "cell_type": "markdown",
   "id": "2155efd1",
   "metadata": {},
   "source": [
    "## Training"
   ]
  }
 ],
 "metadata": {
  "kernelspec": {
   "display_name": "DeepLearning",
   "language": "python",
   "name": "python3"
  },
  "language_info": {
   "codemirror_mode": {
    "name": "ipython",
    "version": 3
   },
   "file_extension": ".py",
   "mimetype": "text/x-python",
   "name": "python",
   "nbconvert_exporter": "python",
   "pygments_lexer": "ipython3",
   "version": "3.12.10"
  }
 },
 "nbformat": 4,
 "nbformat_minor": 5
}
